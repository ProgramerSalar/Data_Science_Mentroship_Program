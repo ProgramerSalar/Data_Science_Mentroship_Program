{
 "cells": [
  {
   "cell_type": "code",
   "execution_count": 1,
   "metadata": {},
   "outputs": [],
   "source": [
    "import pandas as pd"
   ]
  },
  {
   "cell_type": "markdown",
   "metadata": {},
   "source": [
    "# working with JSON"
   ]
  },
  {
   "cell_type": "code",
   "execution_count": 2,
   "metadata": {},
   "outputs": [
    {
     "data": {
      "text/html": [
       "<div>\n",
       "<style scoped>\n",
       "    .dataframe tbody tr th:only-of-type {\n",
       "        vertical-align: middle;\n",
       "    }\n",
       "\n",
       "    .dataframe tbody tr th {\n",
       "        vertical-align: top;\n",
       "    }\n",
       "\n",
       "    .dataframe thead th {\n",
       "        text-align: right;\n",
       "    }\n",
       "</style>\n",
       "<table border=\"1\" class=\"dataframe\">\n",
       "  <thead>\n",
       "    <tr style=\"text-align: right;\">\n",
       "      <th></th>\n",
       "      <th>id</th>\n",
       "      <th>cuisine</th>\n",
       "      <th>ingredients</th>\n",
       "    </tr>\n",
       "  </thead>\n",
       "  <tbody>\n",
       "    <tr>\n",
       "      <th>0</th>\n",
       "      <td>10259</td>\n",
       "      <td>greek</td>\n",
       "      <td>[romaine lettuce, black olives, grape tomatoes...</td>\n",
       "    </tr>\n",
       "    <tr>\n",
       "      <th>1</th>\n",
       "      <td>25693</td>\n",
       "      <td>southern_us</td>\n",
       "      <td>[plain flour, ground pepper, salt, tomatoes, g...</td>\n",
       "    </tr>\n",
       "    <tr>\n",
       "      <th>2</th>\n",
       "      <td>20130</td>\n",
       "      <td>filipino</td>\n",
       "      <td>[eggs, pepper, salt, mayonaise, cooking oil, g...</td>\n",
       "    </tr>\n",
       "    <tr>\n",
       "      <th>3</th>\n",
       "      <td>22213</td>\n",
       "      <td>indian</td>\n",
       "      <td>[water, vegetable oil, wheat, salt]</td>\n",
       "    </tr>\n",
       "    <tr>\n",
       "      <th>4</th>\n",
       "      <td>13162</td>\n",
       "      <td>indian</td>\n",
       "      <td>[black pepper, shallots, cornflour, cayenne pe...</td>\n",
       "    </tr>\n",
       "    <tr>\n",
       "      <th>...</th>\n",
       "      <td>...</td>\n",
       "      <td>...</td>\n",
       "      <td>...</td>\n",
       "    </tr>\n",
       "    <tr>\n",
       "      <th>39769</th>\n",
       "      <td>29109</td>\n",
       "      <td>irish</td>\n",
       "      <td>[light brown sugar, granulated sugar, butter, ...</td>\n",
       "    </tr>\n",
       "    <tr>\n",
       "      <th>39770</th>\n",
       "      <td>11462</td>\n",
       "      <td>italian</td>\n",
       "      <td>[KRAFT Zesty Italian Dressing, purple onion, b...</td>\n",
       "    </tr>\n",
       "    <tr>\n",
       "      <th>39771</th>\n",
       "      <td>2238</td>\n",
       "      <td>irish</td>\n",
       "      <td>[eggs, citrus fruit, raisins, sourdough starte...</td>\n",
       "    </tr>\n",
       "    <tr>\n",
       "      <th>39772</th>\n",
       "      <td>41882</td>\n",
       "      <td>chinese</td>\n",
       "      <td>[boneless chicken skinless thigh, minced garli...</td>\n",
       "    </tr>\n",
       "    <tr>\n",
       "      <th>39773</th>\n",
       "      <td>2362</td>\n",
       "      <td>mexican</td>\n",
       "      <td>[green chile, jalapeno chilies, onions, ground...</td>\n",
       "    </tr>\n",
       "  </tbody>\n",
       "</table>\n",
       "<p>39774 rows × 3 columns</p>\n",
       "</div>"
      ],
      "text/plain": [
       "          id      cuisine                                        ingredients\n",
       "0      10259        greek  [romaine lettuce, black olives, grape tomatoes...\n",
       "1      25693  southern_us  [plain flour, ground pepper, salt, tomatoes, g...\n",
       "2      20130     filipino  [eggs, pepper, salt, mayonaise, cooking oil, g...\n",
       "3      22213       indian                [water, vegetable oil, wheat, salt]\n",
       "4      13162       indian  [black pepper, shallots, cornflour, cayenne pe...\n",
       "...      ...          ...                                                ...\n",
       "39769  29109        irish  [light brown sugar, granulated sugar, butter, ...\n",
       "39770  11462      italian  [KRAFT Zesty Italian Dressing, purple onion, b...\n",
       "39771   2238        irish  [eggs, citrus fruit, raisins, sourdough starte...\n",
       "39772  41882      chinese  [boneless chicken skinless thigh, minced garli...\n",
       "39773   2362      mexican  [green chile, jalapeno chilies, onions, ground...\n",
       "\n",
       "[39774 rows x 3 columns]"
      ]
     },
     "execution_count": 2,
     "metadata": {},
     "output_type": "execute_result"
    }
   ],
   "source": [
    "pd.read_json('https://raw.githubusercontent.com/campusx-official/100-days-of-machine-learning/main/day16%20-%20working-with-json-and-sql/train.json')"
   ]
  },
  {
   "cell_type": "markdown",
   "metadata": {},
   "source": [
    "# working with SQL"
   ]
  },
  {
   "cell_type": "code",
   "execution_count": 3,
   "metadata": {},
   "outputs": [
    {
     "name": "stdout",
     "output_type": "stream",
     "text": [
      "Defaulting to user installation because normal site-packages is not writeable\n",
      "Collecting mysql.connector\n",
      "  Downloading mysql-connector-2.2.9.tar.gz (11.9 MB)\n",
      "     ---------------------------------------- 0.0/11.9 MB ? eta -:--:--\n",
      "     ---------------------------------------- 0.0/11.9 MB ? eta -:--:--\n",
      "     ---------------------------------------- 0.1/11.9 MB 2.1 MB/s eta 0:00:06\n",
      "     -- ------------------------------------- 0.7/11.9 MB 6.3 MB/s eta 0:00:02\n",
      "     ---- ----------------------------------- 1.2/11.9 MB 8.7 MB/s eta 0:00:02\n",
      "     ----- ---------------------------------- 1.5/11.9 MB 7.5 MB/s eta 0:00:02\n",
      "     ------ --------------------------------- 1.8/11.9 MB 7.3 MB/s eta 0:00:02\n",
      "     ------- -------------------------------- 2.1/11.9 MB 7.2 MB/s eta 0:00:02\n",
      "     -------- ------------------------------- 2.4/11.9 MB 7.1 MB/s eta 0:00:02\n",
      "     --------- ------------------------------ 2.7/11.9 MB 7.0 MB/s eta 0:00:02\n",
      "     ---------- ----------------------------- 3.1/11.9 MB 6.7 MB/s eta 0:00:02\n",
      "     ----------- ---------------------------- 3.3/11.9 MB 6.8 MB/s eta 0:00:02\n",
      "     ----------- ---------------------------- 3.6/11.9 MB 6.7 MB/s eta 0:00:02\n",
      "     ------------- -------------------------- 3.9/11.9 MB 6.7 MB/s eta 0:00:02\n",
      "     -------------- ------------------------- 4.2/11.9 MB 6.7 MB/s eta 0:00:02\n",
      "     --------------- ------------------------ 4.5/11.9 MB 6.6 MB/s eta 0:00:02\n",
      "     ---------------- ----------------------- 4.8/11.9 MB 6.5 MB/s eta 0:00:02\n",
      "     ----------------- ---------------------- 5.1/11.9 MB 6.5 MB/s eta 0:00:02\n",
      "     ------------------ --------------------- 5.4/11.9 MB 6.5 MB/s eta 0:00:01\n",
      "     ------------------- -------------------- 5.7/11.9 MB 6.5 MB/s eta 0:00:01\n",
      "     -------------------- ------------------- 6.0/11.9 MB 6.4 MB/s eta 0:00:01\n",
      "     -------------------- ------------------- 6.2/11.9 MB 6.4 MB/s eta 0:00:01\n",
      "     --------------------- ------------------ 6.5/11.9 MB 6.4 MB/s eta 0:00:01\n",
      "     ---------------------- ----------------- 6.8/11.9 MB 6.4 MB/s eta 0:00:01\n",
      "     ----------------------- ---------------- 7.1/11.9 MB 6.4 MB/s eta 0:00:01\n",
      "     ------------------------ --------------- 7.4/11.9 MB 6.4 MB/s eta 0:00:01\n",
      "     ------------------------- -------------- 7.7/11.9 MB 6.4 MB/s eta 0:00:01\n",
      "     --------------------------- ------------ 8.0/11.9 MB 6.3 MB/s eta 0:00:01\n",
      "     ---------------------------- ----------- 8.3/11.9 MB 6.3 MB/s eta 0:00:01\n",
      "     ----------------------------- ---------- 8.6/11.9 MB 6.3 MB/s eta 0:00:01\n",
      "     ----------------------------- ---------- 8.8/11.9 MB 6.3 MB/s eta 0:00:01\n",
      "     ------------------------------ --------- 9.1/11.9 MB 6.3 MB/s eta 0:00:01\n",
      "     ------------------------------- -------- 9.3/11.9 MB 6.3 MB/s eta 0:00:01\n",
      "     -------------------------------- ------- 9.6/11.9 MB 6.3 MB/s eta 0:00:01\n",
      "     --------------------------------- ------ 9.9/11.9 MB 6.3 MB/s eta 0:00:01\n",
      "     ---------------------------------- ----- 10.2/11.9 MB 6.3 MB/s eta 0:00:01\n",
      "     ----------------------------------- ---- 10.4/11.9 MB 6.4 MB/s eta 0:00:01\n",
      "     ------------------------------------ --- 10.8/11.9 MB 6.3 MB/s eta 0:00:01\n",
      "     ------------------------------------- -- 11.0/11.9 MB 6.2 MB/s eta 0:00:01\n",
      "     -------------------------------------- - 11.3/11.9 MB 6.1 MB/s eta 0:00:01\n",
      "     ---------------------------------------  11.7/11.9 MB 6.1 MB/s eta 0:00:01\n",
      "     ---------------------------------------  11.8/11.9 MB 6.1 MB/s eta 0:00:01\n",
      "     ---------------------------------------- 11.9/11.9 MB 5.9 MB/s eta 0:00:00\n",
      "  Preparing metadata (setup.py): started\n",
      "  Preparing metadata (setup.py): finished with status 'done'\n",
      "Building wheels for collected packages: mysql.connector\n",
      "  Building wheel for mysql.connector (setup.py): started\n",
      "  Building wheel for mysql.connector (setup.py): finished with status 'done'\n",
      "  Created wheel for mysql.connector: filename=mysql_connector-2.2.9-cp311-cp311-win_amd64.whl size=247958 sha256=893f66fdba8d63b482dc484f0e1aa13b97973a6f984b9ae06554e9b1d63c3d54\n",
      "  Stored in directory: c:\\users\\mandhata kumar\\appdata\\local\\pip\\cache\\wheels\\17\\cd\\ed\\2d49e9bac69cf09382e4c7cc20a2511202b48324b87db26019\n",
      "Successfully built mysql.connector\n",
      "Installing collected packages: mysql.connector\n",
      "Successfully installed mysql.connector-2.2.9\n"
     ]
    }
   ],
   "source": [
    "!pip install mysql.connector"
   ]
  },
  {
   "cell_type": "code",
   "execution_count": null,
   "metadata": {},
   "outputs": [],
   "source": []
  }
 ],
 "metadata": {
  "kernelspec": {
   "display_name": "base",
   "language": "python",
   "name": "python3"
  },
  "language_info": {
   "codemirror_mode": {
    "name": "ipython",
    "version": 3
   },
   "file_extension": ".py",
   "mimetype": "text/x-python",
   "name": "python",
   "nbconvert_exporter": "python",
   "pygments_lexer": "ipython3",
   "version": "3.11.7"
  }
 },
 "nbformat": 4,
 "nbformat_minor": 2
}
